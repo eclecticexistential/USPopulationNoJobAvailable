{
 "cells": [
  {
   "cell_type": "code",
   "execution_count": 35,
   "metadata": {},
   "outputs": [],
   "source": [
    "from bokeh.io import show, output_file\n",
    "from bokeh.models import HoverTool, NumeralTickFormatter, ColumnDataSource\n",
    "from bokeh.plotting import figure\n",
    "from data_classes import us_bls\n",
    "\n",
    "data_set = []\n",
    "\n",
    "for item in us_bls:\n",
    "    for data in item:\n",
    "        if type(data) != str and data > 2016 and data < 100000000:\n",
    "            data_set.append(data)\n",
    "\n",
    "categories = ['Unemployed 2015', 'Jobs Available 2015', 'Unemployed 2016', 'Jobs Available 2016']\n",
    "colors = [\"#400000\", \"#FF0000\", \"#002006\", \"#006400\"]\n",
    "\n",
    "source = ColumnDataSource(data=dict(category=categories, data=data_set, color=colors))\n",
    "\n",
    "TOOLS=\"reset,hover,save\"\n",
    "\n",
    "p = figure(x_range=categories, title=\"2015 - 2016 US JOLTS and Bureau Labor Statistics CLF, Unemployment Totals\", \n",
    "           toolbar_location='right', tools=TOOLS, plot_width=1100, plot_height=650, y_range=(0, 8500000))\n",
    "\n",
    "p.vbar(x='category', top='data', width=0.7, source=source, line_color=\"white\", fill_color='color')\n",
    "\n",
    "p.yaxis[0].formatter = NumeralTickFormatter(format=\"100,000\")\n",
    "\n",
    "phover = p.select_one(HoverTool)\n",
    "phover.tooltips = [\n",
    "    (\"Category\", \"@category\"),\n",
    "    (\"Stats\", \"@data\"),\n",
    "]\n",
    "\n",
    "p.xgrid.grid_line_color = None\n",
    "output_file(\"USBLS.html\", title=\"2015 - 2016 US JOLTS and Bureau Labor Statistics CLF, Unemployment Totals\")\n",
    "show(p)\n",
    "\n"
   ]
  },
  {
   "cell_type": "code",
   "execution_count": null,
   "metadata": {},
   "outputs": [],
   "source": []
  }
 ],
 "metadata": {
  "kernelspec": {
   "display_name": "Python 3",
   "language": "python",
   "name": "python3"
  },
  "language_info": {
   "codemirror_mode": {
    "name": "ipython",
    "version": 3
   },
   "file_extension": ".py",
   "mimetype": "text/x-python",
   "name": "python",
   "nbconvert_exporter": "python",
   "pygments_lexer": "ipython3",
   "version": "3.6.0b4"
  }
 },
 "nbformat": 4,
 "nbformat_minor": 2
}
