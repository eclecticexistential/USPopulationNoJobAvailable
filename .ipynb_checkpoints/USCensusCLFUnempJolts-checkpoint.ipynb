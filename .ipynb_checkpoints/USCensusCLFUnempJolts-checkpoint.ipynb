{
 "cells": [
  {
   "cell_type": "code",
   "execution_count": 5,
   "metadata": {},
   "outputs": [
    {
     "ename": "TypeError",
     "evalue": "'type' object is not iterable",
     "output_type": "error",
     "traceback": [
      "\u001b[1;31m---------------------------------------------------------------------------\u001b[0m",
      "\u001b[1;31mTypeError\u001b[0m                                 Traceback (most recent call last)",
      "\u001b[1;32m<ipython-input-5-f7a1187be450>\u001b[0m in \u001b[0;36m<module>\u001b[1;34m()\u001b[0m\n\u001b[0;32m      6\u001b[0m \u001b[0mdata_set\u001b[0m \u001b[1;33m=\u001b[0m \u001b[1;33m[\u001b[0m\u001b[1;33m]\u001b[0m\u001b[1;33m\u001b[0m\u001b[0m\n\u001b[0;32m      7\u001b[0m \u001b[1;33m\u001b[0m\u001b[0m\n\u001b[1;32m----> 8\u001b[1;33m \u001b[1;32mfor\u001b[0m \u001b[0mitem\u001b[0m \u001b[1;32min\u001b[0m \u001b[0mlist\u001b[0m\u001b[1;33m(\u001b[0m\u001b[0mus_census\u001b[0m\u001b[1;33m)\u001b[0m\u001b[1;33m:\u001b[0m\u001b[1;33m\u001b[0m\u001b[0m\n\u001b[0m\u001b[0;32m      9\u001b[0m     \u001b[1;32mfor\u001b[0m \u001b[0mdata\u001b[0m \u001b[1;32min\u001b[0m \u001b[0mitem\u001b[0m\u001b[1;33m:\u001b[0m\u001b[1;33m\u001b[0m\u001b[0m\n\u001b[0;32m     10\u001b[0m         \u001b[1;32mif\u001b[0m \u001b[0mtype\u001b[0m\u001b[1;33m(\u001b[0m\u001b[0mdata\u001b[0m\u001b[1;33m)\u001b[0m \u001b[1;33m!=\u001b[0m \u001b[0mstr\u001b[0m \u001b[1;32mand\u001b[0m \u001b[0mdata\u001b[0m \u001b[1;33m>\u001b[0m \u001b[1;36m2016\u001b[0m\u001b[1;33m:\u001b[0m\u001b[1;33m\u001b[0m\u001b[0m\n",
      "\u001b[1;31mTypeError\u001b[0m: 'type' object is not iterable"
     ]
    }
   ],
   "source": [
    "from bokeh.io import show, output_file\n",
    "from bokeh.models import HoverTool, NumeralTickFormatter, ColumnDataSource\n",
    "from bokeh.plotting import figure\n",
    "from us_tots_classes import us_census\n",
    "\n",
    "data_set = []\n",
    "\n",
    "for item in us_census:\n",
    "    for data in item:\n",
    "        if type(data) != str and data > 2016:\n",
    "            data_set.append(data)\n",
    "            \n",
    "print(data_set)\n",
    "\n",
    "categories = ['Unemployed 2015', 'Jobs Available 2015', 'Unemployed 2016', 'Jobs Available 2016']\n",
    "colors = [\"#400000\", \"#FF0000\", \"#002006\", \"#006400\"]\n",
    "\n",
    "source = ColumnDataSource(data=dict(category=categories, data=data_set, color=colors))\n",
    "\n",
    "TOOLS=\"reset,hover,save\"\n",
    "\n",
    "p = figure(x_range=categories, title=\"2015 - 2016 US Census, JOLTS, and BLS CLF, Unemployment Totals\", \n",
    "           toolbar_location='right', tools=TOOLS, plot_width=1100, plot_height=650, y_range=(0, 15000000))\n",
    "\n",
    "p.vbar(x='category', top='data', width=0.7, source=source, line_color=\"white\", fill_color='color')\n",
    "\n",
    "phover = p.select_one(HoverTool)\n",
    "phover.tooltips = [\n",
    "    (\"Category\", \"@category\"),\n",
    "    (\"Stats\", \"@data\"),\n",
    "]\n",
    "\n",
    "p.xgrid.grid_line_color = None\n",
    "output_file(\"USCensusBLS.html\", title=\"2015 - 2016 US Census, JOLTS, and Bureau Labor Statistics CLF, Unemployment Totals\")\n",
    "# show(p)"
   ]
  },
  {
   "cell_type": "code",
   "execution_count": null,
   "metadata": {},
   "outputs": [],
   "source": []
  }
 ],
 "metadata": {
  "kernelspec": {
   "display_name": "Python 3",
   "language": "python",
   "name": "python3"
  },
  "language_info": {
   "codemirror_mode": {
    "name": "ipython",
    "version": 3
   },
   "file_extension": ".py",
   "mimetype": "text/x-python",
   "name": "python",
   "nbconvert_exporter": "python",
   "pygments_lexer": "ipython3",
   "version": "3.6.0b4"
  }
 },
 "nbformat": 4,
 "nbformat_minor": 2
}
