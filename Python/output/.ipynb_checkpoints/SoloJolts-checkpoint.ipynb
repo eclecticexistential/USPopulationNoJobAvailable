{
 "cells": [
  {
   "cell_type": "code",
   "execution_count": 48,
   "metadata": {},
   "outputs": [],
   "source": [
    "from bokeh.io import show, output_file\n",
    "from bokeh.models import HoverTool, NumeralTickFormatter, ColumnDataSource\n",
    "from bokeh.plotting import figure\n",
    "from SAJoltsClass import jolts_data\n",
    "from bokeh.palettes import Category20\n",
    "\n",
    "years = []\n",
    "across_the_years = []\n",
    "aty_us = []\n",
    "colors = []\n",
    "counter = 0\n",
    "for item in jolts_data:\n",
    "    years.extend([str(item[0])])\n",
    "    across_the_years.extend([item[2], item[4], item[6], item[8]])\n",
    "    aty_us.extend([item[10]])\n",
    "    if counter <= 15:\n",
    "        colors.append(Category20[16][counter])\n",
    "        counter += 1\n",
    "    elif counter > 15:\n",
    "        continue\n",
    "                            \n",
    "source = ColumnDataSource(data=dict(year=years, data=aty_us, color=colors))\n",
    "\n",
    "TOOLS=\"reset, hover, save\"\n",
    "\n",
    "p = figure(x_range=years, title=\"JOLTS US Totals 2001-2016\", \n",
    "           toolbar_location='right', tools=TOOLS, plot_width=1100, plot_height=650, y_range=(0, 6000000))\n",
    "\n",
    "p.vbar(x='year', top='data', width=0.6, source=source, line_color=\"white\", fill_color='color')\n",
    "\n",
    "p.yaxis[0].formatter = NumeralTickFormatter(format=\"100,000\")\n",
    "p.axis.major_label_text_font_size = \"13px\"\n",
    "\n",
    "hover = p.select_one(HoverTool)\n",
    "hover.tooltips = [\n",
    "    (\"Stats\", \"@data\"),\n",
    "]\n",
    "\n",
    "p.title.text_font_size = \"24px\"\n",
    "p.xgrid.grid_line_color = None\n",
    "\n",
    "output_file(\"SoloUSJOLTSTotals.html\", title=\"JOLTS 2001-2016\")\n",
    "\n",
    "show(p)\n",
    "    \n",
    "\n",
    "\n",
    "\n",
    "            \n"
   ]
  },
  {
   "cell_type": "code",
   "execution_count": null,
   "metadata": {},
   "outputs": [],
   "source": []
  }
 ],
 "metadata": {
  "kernelspec": {
   "display_name": "Python 3",
   "language": "python",
   "name": "python3"
  },
  "language_info": {
   "codemirror_mode": {
    "name": "ipython",
    "version": 3
   },
   "file_extension": ".py",
   "mimetype": "text/x-python",
   "name": "python",
   "nbconvert_exporter": "python",
   "pygments_lexer": "ipython3",
   "version": "3.6.0b4"
  }
 },
 "nbformat": 4,
 "nbformat_minor": 2
}
